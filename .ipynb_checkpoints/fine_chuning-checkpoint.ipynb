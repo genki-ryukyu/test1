{
 "cells": [
  {
   "cell_type": "code",
   "execution_count": 1,
   "id": "743c544d",
   "metadata": {},
   "outputs": [
    {
     "name": "stdout",
     "output_type": "stream",
     "text": [
      "Python 3.10.12\r\n"
     ]
    }
   ],
   "source": [
    "!python -V"
   ]
  },
  {
   "cell_type": "code",
   "execution_count": 2,
   "id": "a9ee3c0a",
   "metadata": {
    "scrolled": false
   },
   "outputs": [
    {
     "name": "stdout",
     "output_type": "stream",
     "text": [
      "Package                  Version\r\n",
      "------------------------ ---------\r\n",
      "absl-py                  1.4.0\r\n",
      "anyio                    3.6.2\r\n",
      "appnope                  0.1.3\r\n",
      "argon2-cffi              21.3.0\r\n",
      "argon2-cffi-bindings     21.2.0\r\n",
      "array-record             0.2.0\r\n",
      "arrow                    1.2.3\r\n",
      "asttokens                2.2.1\r\n",
      "astunparse               1.6.3\r\n",
      "attrs                    23.1.0\r\n",
      "backcall                 0.2.0\r\n",
      "beautifulsoup4           4.12.2\r\n",
      "bleach                   6.0.0\r\n",
      "cachetools               5.3.0\r\n",
      "certifi                  2023.5.7\r\n",
      "cffi                     1.15.1\r\n",
      "charset-normalizer       3.1.0\r\n",
      "click                    8.1.3\r\n",
      "comm                     0.1.3\r\n",
      "contourpy                1.0.7\r\n",
      "cycler                   0.11.0\r\n",
      "debugpy                  1.6.7\r\n",
      "decorator                5.1.1\r\n",
      "defusedxml               0.7.1\r\n",
      "dm-tree                  0.1.8\r\n",
      "etils                    1.3.0\r\n",
      "exceptiongroup           1.1.1\r\n",
      "executing                1.2.0\r\n",
      "fastjsonschema           2.16.3\r\n",
      "flatbuffers              23.5.9\r\n",
      "fonttools                4.39.3\r\n",
      "fqdn                     1.5.1\r\n",
      "gast                     0.4.0\r\n",
      "google-auth              2.18.1\r\n",
      "google-auth-oauthlib     1.0.0\r\n",
      "google-pasta             0.2.0\r\n",
      "googleapis-common-protos 1.59.1\r\n",
      "grpcio                   1.54.2\r\n",
      "h5py                     3.8.0\r\n",
      "idna                     3.4\r\n",
      "importlib-resources      5.12.0\r\n",
      "iniconfig                2.0.0\r\n",
      "ipykernel                6.22.0\r\n",
      "ipython                  8.12.0\r\n",
      "ipython-genutils         0.2.0\r\n",
      "ipywidgets               8.0.6\r\n",
      "isoduration              20.11.0\r\n",
      "jedi                     0.18.2\r\n",
      "Jinja2                   3.1.2\r\n",
      "joblib                   1.2.0\r\n",
      "jsonpointer              2.3\r\n",
      "jsonschema               4.17.3\r\n",
      "jupyter                  1.0.0\r\n",
      "jupyter_client           8.2.0\r\n",
      "jupyter-console          6.6.3\r\n",
      "jupyter_core             5.3.0\r\n",
      "jupyter-events           0.6.3\r\n",
      "jupyter_server           2.5.0\r\n",
      "jupyter_server_terminals 0.4.4\r\n",
      "jupyterlab-pygments      0.2.2\r\n",
      "jupyterlab-widgets       3.0.7\r\n",
      "keras                    2.13.1rc0\r\n",
      "kiwisolver               1.4.4\r\n",
      "libclang                 16.0.0\r\n",
      "Markdown                 3.4.3\r\n",
      "MarkupSafe               2.1.2\r\n",
      "matplotlib               3.7.1\r\n",
      "matplotlib-inline        0.1.6\r\n",
      "mistune                  2.0.5\r\n",
      "nbclassic                0.5.5\r\n",
      "nbclient                 0.7.4\r\n",
      "nbconvert                7.3.1\r\n",
      "nbformat                 5.8.0\r\n",
      "nest-asyncio             1.5.6\r\n",
      "notebook                 6.5.4\r\n",
      "notebook_shim            0.2.3\r\n",
      "numpy                    1.24.2\r\n",
      "oauthlib                 3.2.2\r\n",
      "opencv-python            4.7.0.72\r\n",
      "opt-einsum               3.3.0\r\n",
      "packaging                23.1\r\n",
      "pandas                   2.0.0\r\n",
      "pandocfilters            1.5.0\r\n",
      "parso                    0.8.3\r\n",
      "pexpect                  4.8.0\r\n",
      "pickleshare              0.7.5\r\n",
      "Pillow                   9.5.0\r\n",
      "pip                      23.1.2\r\n",
      "platformdirs             3.4.0\r\n",
      "pluggy                   1.0.0\r\n",
      "prometheus-client        0.16.0\r\n",
      "promise                  2.3\r\n",
      "prompt-toolkit           3.0.38\r\n",
      "protobuf                 4.23.1\r\n",
      "psutil                   5.9.5\r\n",
      "ptyprocess               0.7.0\r\n",
      "pure-eval                0.2.2\r\n",
      "pyasn1                   0.5.0\r\n",
      "pyasn1-modules           0.3.0\r\n",
      "pycparser                2.21\r\n",
      "Pygments                 2.15.1\r\n",
      "pyparsing                3.0.9\r\n",
      "pyrsistent               0.19.3\r\n",
      "pytest                   7.3.1\r\n",
      "python-dateutil          2.8.2\r\n",
      "python-json-logger       2.0.7\r\n",
      "pytz                     2023.3\r\n",
      "PyYAML                   6.0\r\n",
      "pyzmq                    25.0.2\r\n",
      "qtconsole                5.4.2\r\n",
      "QtPy                     2.3.1\r\n",
      "requests                 2.31.0\r\n",
      "requests-oauthlib        1.3.1\r\n",
      "rfc3339-validator        0.1.4\r\n",
      "rfc3986-validator        0.1.1\r\n",
      "rsa                      4.9\r\n",
      "scikit-learn             1.2.2\r\n",
      "scipy                    1.10.1\r\n",
      "Send2Trash               1.8.0\r\n",
      "setuptools               68.0.0\r\n",
      "six                      1.16.0\r\n",
      "sniffio                  1.3.0\r\n",
      "soupsieve                2.4.1\r\n",
      "stack-data               0.6.2\r\n",
      "tensorboard              2.13.0\r\n",
      "tensorboard-data-server  0.7.0\r\n",
      "tensorflow               2.13.0rc0\r\n",
      "tensorflow-datasets      4.9.2\r\n",
      "tensorflow-estimator     2.13.0rc0\r\n",
      "tensorflow-macos         2.13.0rc0\r\n",
      "tensorflow-metadata      1.13.1\r\n",
      "termcolor                2.3.0\r\n",
      "terminado                0.17.1\r\n",
      "threadpoolctl            3.1.0\r\n",
      "tinycss2                 1.2.1\r\n",
      "toml                     0.10.2\r\n",
      "tomli                    2.0.1\r\n",
      "tornado                  6.3.1\r\n",
      "tqdm                     4.65.0\r\n",
      "traitlets                5.9.0\r\n",
      "typing_extensions        4.6.1\r\n",
      "tzdata                   2023.3\r\n",
      "uri-template             1.2.0\r\n",
      "urllib3                  1.26.16\r\n",
      "wcwidth                  0.2.6\r\n",
      "webcolors                1.13\r\n",
      "webencodings             0.5.1\r\n",
      "websocket-client         1.5.1\r\n",
      "Werkzeug                 2.3.4\r\n",
      "wheel                    0.40.0\r\n",
      "widgetsnbextension       4.0.7\r\n",
      "wrapt                    1.14.1\r\n",
      "zipp                     3.15.0\r\n"
     ]
    }
   ],
   "source": [
    "!pip list"
   ]
  },
  {
   "cell_type": "code",
   "execution_count": 3,
   "id": "f0a318c5",
   "metadata": {},
   "outputs": [],
   "source": [
    "import tensorflow as tf\n",
    "import os"
   ]
  },
  {
   "cell_type": "code",
   "execution_count": 4,
   "id": "32a47a54",
   "metadata": {},
   "outputs": [],
   "source": [
    "# Avoid OOM errors by setting GPU Memory Consumption Growth\n",
    "gpus = tf.config.experimental.list_physical_devices('GPU')\n",
    "for gpu in gpus: \n",
    "    tf.config.experimental.set_memory_growth(gpu, True)"
   ]
  },
  {
   "cell_type": "code",
   "execution_count": 5,
   "id": "9ddbfc60",
   "metadata": {},
   "outputs": [
    {
     "data": {
      "text/plain": [
       "[]"
      ]
     },
     "execution_count": 5,
     "metadata": {},
     "output_type": "execute_result"
    }
   ],
   "source": [
    "tf.config.list_physical_devices('GPU')"
   ]
  },
  {
   "cell_type": "markdown",
   "id": "e4f53703",
   "metadata": {},
   "source": [
    "# 1. Load VGG16 Model"
   ]
  },
  {
   "cell_type": "code",
   "execution_count": 6,
   "id": "039d1644",
   "metadata": {},
   "outputs": [],
   "source": [
    "from keras.applications.vgg16 import VGG16\n",
    "from keras.applications.vgg16 import preprocess_input"
   ]
  },
  {
   "cell_type": "code",
   "execution_count": 7,
   "id": "f20065e0",
   "metadata": {},
   "outputs": [
    {
     "name": "stdout",
     "output_type": "stream",
     "text": [
      "model summary 1\n",
      "Model: \"vgg16\"\n",
      "_________________________________________________________________\n",
      " Layer (type)                Output Shape              Param #   \n",
      "=================================================================\n",
      " input_1 (InputLayer)        [(None, 256, 256, 3)]     0         \n",
      "                                                                 \n",
      " block1_conv1 (Conv2D)       (None, 256, 256, 64)      1792      \n",
      "                                                                 \n",
      " block1_conv2 (Conv2D)       (None, 256, 256, 64)      36928     \n",
      "                                                                 \n",
      " block1_pool (MaxPooling2D)  (None, 128, 128, 64)      0         \n",
      "                                                                 \n",
      " block2_conv1 (Conv2D)       (None, 128, 128, 128)     73856     \n",
      "                                                                 \n",
      " block2_conv2 (Conv2D)       (None, 128, 128, 128)     147584    \n",
      "                                                                 \n",
      " block2_pool (MaxPooling2D)  (None, 64, 64, 128)       0         \n",
      "                                                                 \n",
      " block3_conv1 (Conv2D)       (None, 64, 64, 256)       295168    \n",
      "                                                                 \n",
      " block3_conv2 (Conv2D)       (None, 64, 64, 256)       590080    \n",
      "                                                                 \n",
      " block3_conv3 (Conv2D)       (None, 64, 64, 256)       590080    \n",
      "                                                                 \n",
      " block3_pool (MaxPooling2D)  (None, 32, 32, 256)       0         \n",
      "                                                                 \n",
      " block4_conv1 (Conv2D)       (None, 32, 32, 512)       1180160   \n",
      "                                                                 \n",
      " block4_conv2 (Conv2D)       (None, 32, 32, 512)       2359808   \n",
      "                                                                 \n",
      " block4_conv3 (Conv2D)       (None, 32, 32, 512)       2359808   \n",
      "                                                                 \n",
      " block4_pool (MaxPooling2D)  (None, 16, 16, 512)       0         \n",
      "                                                                 \n",
      " block5_conv1 (Conv2D)       (None, 16, 16, 512)       2359808   \n",
      "                                                                 \n",
      " block5_conv2 (Conv2D)       (None, 16, 16, 512)       2359808   \n",
      "                                                                 \n",
      " block5_conv3 (Conv2D)       (None, 16, 16, 512)       2359808   \n",
      "                                                                 \n",
      " block5_pool (MaxPooling2D)  (None, 8, 8, 512)         0         \n",
      "                                                                 \n",
      "=================================================================\n",
      "Total params: 14714688 (56.13 MB)\n",
      "Trainable params: 0 (0.00 Byte)\n",
      "Non-trainable params: 14714688 (56.13 MB)\n",
      "_________________________________________________________________\n",
      "Is layer Not trainable weights?\n",
      "<keras.src.engine.input_layer.InputLayer object at 0x17d9c6a70> False\n",
      "<keras.src.layers.convolutional.conv2d.Conv2D object at 0x17d9c7b80> False\n",
      "<keras.src.layers.convolutional.conv2d.Conv2D object at 0x17dd34340> False\n",
      "<keras.src.layers.pooling.max_pooling2d.MaxPooling2D object at 0x17dd35000> False\n",
      "<keras.src.layers.convolutional.conv2d.Conv2D object at 0x17dd35720> False\n",
      "<keras.src.layers.convolutional.conv2d.Conv2D object at 0x17dd35d80> False\n",
      "<keras.src.layers.pooling.max_pooling2d.MaxPooling2D object at 0x17dd370a0> False\n",
      "<keras.src.layers.convolutional.conv2d.Conv2D object at 0x17dd37a60> False\n",
      "<keras.src.layers.convolutional.conv2d.Conv2D object at 0x17dd37eb0> False\n",
      "<keras.src.layers.convolutional.conv2d.Conv2D object at 0x17dd37fd0> False\n",
      "<keras.src.layers.pooling.max_pooling2d.MaxPooling2D object at 0x17ddcd930> False\n",
      "<keras.src.layers.convolutional.conv2d.Conv2D object at 0x17ddcddb0> False\n",
      "<keras.src.layers.convolutional.conv2d.Conv2D object at 0x17ddce3e0> False\n",
      "<keras.src.layers.convolutional.conv2d.Conv2D object at 0x17ddcefe0> False\n",
      "<keras.src.layers.pooling.max_pooling2d.MaxPooling2D object at 0x17ddec370> False\n",
      "<keras.src.layers.convolutional.conv2d.Conv2D object at 0x17ddce650> False\n",
      "<keras.src.layers.convolutional.conv2d.Conv2D object at 0x17ddcfeb0> False\n",
      "<keras.src.layers.convolutional.conv2d.Conv2D object at 0x17dded600> False\n",
      "<keras.src.layers.pooling.max_pooling2d.MaxPooling2D object at 0x17ddee6b0> False\n"
     ]
    }
   ],
   "source": [
    "base_model = VGG16(weights=\"imagenet\", include_top=False, input_shape=(256, 256, 3))\n",
    "base_model.trainable = False ## Not trainable weights\n",
    "print(\"model summary 1\")\n",
    "base_model.summary()\n",
    "print(\"Is layer Not trainable weights?\")\n",
    "for layer in base_model.layers:\n",
    "    print(layer, layer.trainable)"
   ]
  },
  {
   "cell_type": "markdown",
   "id": "6b642753",
   "metadata": {},
   "source": [
    "# 2. Fine Chuning Model"
   ]
  },
  {
   "cell_type": "code",
   "execution_count": 9,
   "id": "7f0b0444",
   "metadata": {},
   "outputs": [],
   "source": [
    "from keras.utils import to_categorical\n",
    "from keras.models import Sequential\n",
    "from keras.layers import Conv2D, MaxPooling2D, Dense, Flatten, Dropout\n",
    "from keras.callbacks import EarlyStopping"
   ]
  },
  {
   "cell_type": "code",
   "execution_count": 10,
   "id": "acb4de14",
   "metadata": {},
   "outputs": [],
   "source": [
    "model = Sequential()\n",
    "\n",
    "model.add(base_model)\n",
    "\n",
    "model.add(Conv2D(64, kernel_size=3, padding=\"same\", activation=\"relu\"))\n",
    "model.add(MaxPooling2D())\n",
    "model.add(Dropout(0.25))\n",
    "\n",
    "model.add(Flatten())\n",
    "model.add(Dense(256, activation='relu'))\n",
    "model.add(Dropout(0.5))\n",
    "model.add(Dense(128, activation=\"relu\")) \n",
    "model.add(Dense(64, activation=\"relu\")) \n",
    "model.add(Dropout(0.5))\n",
    "model.add(Dense(1, activation='sigmoid'))"
   ]
  },
  {
   "cell_type": "code",
   "execution_count": 11,
   "id": "1e572cff",
   "metadata": {},
   "outputs": [
    {
     "name": "stdout",
     "output_type": "stream",
     "text": [
      "<keras.src.engine.functional.Functional object at 0x286576740> False\n",
      "<keras.src.layers.convolutional.conv2d.Conv2D object at 0x28626b400> True\n",
      "<keras.src.layers.pooling.max_pooling2d.MaxPooling2D object at 0x105e1fa90> True\n",
      "<keras.src.layers.regularization.dropout.Dropout object at 0x28626aef0> True\n",
      "<keras.src.layers.reshaping.flatten.Flatten object at 0x28b80aa70> True\n",
      "<keras.src.layers.core.dense.Dense object at 0x28b80bd00> True\n",
      "<keras.src.layers.regularization.dropout.Dropout object at 0x28624b850> True\n",
      "<keras.src.layers.core.dense.Dense object at 0x28624b5e0> True\n",
      "<keras.src.layers.core.dense.Dense object at 0x1697396f0> True\n",
      "<keras.src.layers.regularization.dropout.Dropout object at 0x169739990> True\n",
      "<keras.src.layers.core.dense.Dense object at 0x105dedc00> True\n",
      "10\n"
     ]
    }
   ],
   "source": [
    "for layer in model.layers:\n",
    "    print(layer, layer.trainable )\n",
    "\n",
    "print(len(model.trainable_weights))"
   ]
  },
  {
   "cell_type": "code",
   "execution_count": 12,
   "id": "91c05203",
   "metadata": {},
   "outputs": [],
   "source": [
    "from keras.callbacks import EarlyStopping"
   ]
  },
  {
   "cell_type": "code",
   "execution_count": 13,
   "id": "dc9b0a63",
   "metadata": {},
   "outputs": [],
   "source": [
    "model.compile(\n",
    "    optimizer= 'adam', \n",
    "    loss=tf.losses.BinaryCrossentropy(),\n",
    "    metrics=['accuracy']\n",
    ")"
   ]
  },
  {
   "cell_type": "code",
   "execution_count": 14,
   "id": "bc6f406a",
   "metadata": {},
   "outputs": [
    {
     "name": "stdout",
     "output_type": "stream",
     "text": [
      "Model: \"sequential\"\n",
      "_________________________________________________________________\n",
      " Layer (type)                Output Shape              Param #   \n",
      "=================================================================\n",
      " vgg16 (Functional)          (None, 8, 8, 512)         14714688  \n",
      "                                                                 \n",
      " conv2d (Conv2D)             (None, 8, 8, 64)          294976    \n",
      "                                                                 \n",
      " max_pooling2d (MaxPooling2  (None, 4, 4, 64)          0         \n",
      " D)                                                              \n",
      "                                                                 \n",
      " dropout (Dropout)           (None, 4, 4, 64)          0         \n",
      "                                                                 \n",
      " flatten (Flatten)           (None, 1024)              0         \n",
      "                                                                 \n",
      " dense (Dense)               (None, 256)               262400    \n",
      "                                                                 \n",
      " dropout_1 (Dropout)         (None, 256)               0         \n",
      "                                                                 \n",
      " dense_1 (Dense)             (None, 128)               32896     \n",
      "                                                                 \n",
      " dense_2 (Dense)             (None, 64)                8256      \n",
      "                                                                 \n",
      " dropout_2 (Dropout)         (None, 64)                0         \n",
      "                                                                 \n",
      " dense_3 (Dense)             (None, 1)                 65        \n",
      "                                                                 \n",
      "=================================================================\n",
      "Total params: 15313281 (58.42 MB)\n",
      "Trainable params: 598593 (2.28 MB)\n",
      "Non-trainable params: 14714688 (56.13 MB)\n",
      "_________________________________________________________________\n"
     ]
    }
   ],
   "source": [
    "model.summary()"
   ]
  },
  {
   "cell_type": "markdown",
   "id": "3cb8382a",
   "metadata": {},
   "source": [
    "# 3. Remove dodgy images"
   ]
  },
  {
   "cell_type": "code",
   "execution_count": 15,
   "id": "1692126c",
   "metadata": {},
   "outputs": [],
   "source": [
    "import cv2\n",
    "import imghdr"
   ]
  },
  {
   "cell_type": "code",
   "execution_count": 16,
   "id": "91272522",
   "metadata": {},
   "outputs": [],
   "source": [
    "data_dir = 'data3' "
   ]
  },
  {
   "cell_type": "code",
   "execution_count": 17,
   "id": "14b756c0",
   "metadata": {},
   "outputs": [],
   "source": [
    "image_exts = ['jpeg','jpg', 'bmp', 'png']"
   ]
  },
  {
   "cell_type": "code",
   "execution_count": 18,
   "id": "9d2c6d4a",
   "metadata": {},
   "outputs": [],
   "source": [
    "for image_class in os.listdir(data_dir): \n",
    "    for image in os.listdir(os.path.join(data_dir, image_class)):\n",
    "        image_path = os.path.join(data_dir, image_class, image)\n",
    "        try: \n",
    "            img = cv2.imread(image_path)\n",
    "            tip = imghdr.what(image_path)\n",
    "            if tip not in image_exts: \n",
    "                print('Image not in ext list {}'.format(image_path))\n",
    "                os.remove(image_path)\n",
    "        except Exception as e: \n",
    "            print('Issue with image {}'.format(image_path))\n",
    "            # os.remove(image_path)"
   ]
  },
  {
   "cell_type": "markdown",
   "id": "9ae59f45",
   "metadata": {},
   "source": [
    "# 4. Load Data"
   ]
  },
  {
   "cell_type": "code",
   "execution_count": 19,
   "id": "e5d51486",
   "metadata": {},
   "outputs": [],
   "source": [
    "import numpy as np\n",
    "from matplotlib import pyplot as plt"
   ]
  },
  {
   "cell_type": "code",
   "execution_count": 20,
   "id": "c8d64916",
   "metadata": {},
   "outputs": [
    {
     "name": "stdout",
     "output_type": "stream",
     "text": [
      "Found 594 files belonging to 2 classes.\n"
     ]
    }
   ],
   "source": [
    "data= tf.keras.utils.image_dataset_from_directory('data3')"
   ]
  },
  {
   "cell_type": "code",
   "execution_count": 26,
   "id": "9ff2839d",
   "metadata": {},
   "outputs": [],
   "source": [
    "data_iterator = data.as_numpy_iterator()"
   ]
  },
  {
   "cell_type": "code",
   "execution_count": 27,
   "id": "fc6e56d7",
   "metadata": {},
   "outputs": [],
   "source": [
    "batch = data_iterator.next()"
   ]
  },
  {
   "cell_type": "code",
   "execution_count": 28,
   "id": "9d5e5c4c",
   "metadata": {},
   "outputs": [
    {
     "data": {
      "image/png": "[encoded data removed]",
      "text/plain": [
       "<Figure size 2000x2000 with 4 Axes>"
      ]
     },
     "metadata": {},
     "output_type": "display_data"
    }
   ],
   "source": [
    "fig, ax = plt.subplots(ncols=4, figsize=(20,20))\n",
    "for idx, img in enumerate(batch[0][:4]):\n",
    "    ax[idx].imshow(img.astype(int))\n",
    "    ax[idx].title.set_text(batch[1][idx])"
   ]
  },
  {
   "cell_type": "markdown",
   "id": "ec7ea058",
   "metadata": {},
   "source": [
    "# 5. Scale Data"
   ]
  },
  {
   "cell_type": "code",
   "execution_count": 29,
   "id": "054a6555",
   "metadata": {},
   "outputs": [],
   "source": [
    "data = data.map(lambda x,y: (x/255, y))"
   ]
  },
  {
   "cell_type": "code",
   "execution_count": 30,
   "id": "04624c3e",
   "metadata": {},
   "outputs": [
    {
     "name": "stderr",
     "output_type": "stream",
     "text": [
      "2023-06-26 11:01:15.864326: I tensorflow/core/common_runtime/executor.cc:1210] [/device:CPU:0] (DEBUG INFO) Executor start aborting (this does not indicate an error and you can ignore this message): INVALID_ARGUMENT: You must feed a value for placeholder tensor 'Placeholder/_4' with dtype int32 and shape [594]\n",
      "\t [[{{node Placeholder/_4}}]]\n",
      "2023-06-26 11:01:15.864753: I tensorflow/core/common_runtime/executor.cc:1210] [/device:CPU:0] (DEBUG INFO) Executor start aborting (this does not indicate an error and you can ignore this message): INVALID_ARGUMENT: You must feed a value for placeholder tensor 'Placeholder/_4' with dtype int32 and shape [594]\n",
      "\t [[{{node Placeholder/_4}}]]\n"
     ]
    },
    {
     "data": {
      "text/plain": [
       "(array([[[[3.23265092e-03, 3.29416571e-03, 3.30954441e-03],\n",
       "          [3.29068140e-03, 3.35219642e-03, 3.36757512e-03],\n",
       "          [2.73260265e-03, 2.79411767e-03, 2.80949636e-03],\n",
       "          ...,\n",
       "          [2.50252290e-03, 2.57941638e-03, 2.62555247e-03],\n",
       "          [2.56680138e-03, 2.64369487e-03, 2.68983096e-03],\n",
       "          [3.03609180e-03, 3.11298529e-03, 3.15912138e-03]],\n",
       " \n",
       "         [[3.23020667e-03, 3.29172146e-03, 3.30710015e-03],\n",
       "          [2.92946026e-03, 2.99097504e-03, 3.00635374e-03],\n",
       "          [2.75867456e-03, 2.82018934e-03, 2.83556804e-03],\n",
       "          ...,\n",
       "          [2.66832276e-03, 2.74521625e-03, 2.79135234e-03],\n",
       "          [2.70757684e-03, 2.78447033e-03, 2.83060642e-03],\n",
       "          [3.01781856e-03, 3.09471204e-03, 3.14084813e-03]],\n",
       " \n",
       "         [[3.15667712e-03, 3.21819191e-03, 3.23357061e-03],\n",
       "          [2.52286904e-03, 2.58438382e-03, 2.59976252e-03],\n",
       "          [2.76774191e-03, 2.82925670e-03, 2.84463540e-03],\n",
       "          ...,\n",
       "          [2.87747825e-03, 2.95437197e-03, 3.00050806e-03],\n",
       "          [2.90682027e-03, 2.98371376e-03, 3.02984985e-03],\n",
       "          [3.02580441e-03, 3.10269790e-03, 3.14883399e-03]],\n",
       " \n",
       "         ...,\n",
       " \n",
       "         [[2.56391009e-03, 2.65618227e-03, 2.65618227e-03],\n",
       "          [2.24098004e-03, 2.33325223e-03, 2.33325223e-03],\n",
       "          [2.20322795e-03, 2.29550013e-03, 2.29550013e-03],\n",
       "          ...,\n",
       "          [3.11364792e-03, 3.17516271e-03, 3.22129880e-03],\n",
       "          [2.72155879e-03, 2.78307358e-03, 2.82920967e-03],\n",
       "          [2.74294848e-03, 2.80446326e-03, 2.85059935e-03]],\n",
       " \n",
       "         [[2.78271874e-03, 2.87499093e-03, 2.87499093e-03],\n",
       "          [2.64903554e-03, 2.74130795e-03, 2.74130795e-03],\n",
       "          [2.57025543e-03, 2.66252761e-03, 2.66252761e-03],\n",
       "          ...,\n",
       "          [3.07656243e-03, 3.13807721e-03, 3.18421330e-03],\n",
       "          [2.89617432e-03, 2.95768911e-03, 3.00382520e-03],\n",
       "          [2.67122709e-03, 2.73274188e-03, 2.77887797e-03]],\n",
       " \n",
       "         [[2.96941074e-03, 3.06168315e-03, 3.06168315e-03],\n",
       "          [3.05483467e-03, 3.14710685e-03, 3.14710685e-03],\n",
       "          [2.98274704e-03, 3.07501922e-03, 3.07501922e-03],\n",
       "          ...,\n",
       "          [2.99031613e-03, 3.05183092e-03, 3.09796701e-03],\n",
       "          [3.02816229e-03, 3.08967708e-03, 3.13581317e-03],\n",
       "          [2.66808434e-03, 2.72959913e-03, 2.77573522e-03]]],\n",
       " \n",
       " \n",
       "        [[[3.42981075e-03, 3.13761528e-03, 2.63011828e-03],\n",
       "          [3.48934298e-03, 3.19714774e-03, 2.68965075e-03],\n",
       "          [3.39283561e-03, 3.10064037e-03, 2.59314338e-03],\n",
       "          ...,\n",
       "          [2.74416688e-03, 2.44926824e-03, 1.83412025e-03],\n",
       "          [2.76762550e-03, 2.49053841e-03, 1.90560729e-03],\n",
       "          [2.84460909e-03, 2.56779231e-03, 1.98340183e-03]],\n",
       " \n",
       "         [[3.36120999e-03, 3.07880668e-03, 2.54193391e-03],\n",
       "          [3.41169629e-03, 3.12929298e-03, 2.59242021e-03],\n",
       "          [3.35481553e-03, 3.07241222e-03, 2.53553921e-03],\n",
       "          ...,\n",
       "          [2.76952633e-03, 2.46569654e-03, 1.87877670e-03],\n",
       "          [2.79700127e-03, 2.51974189e-03, 1.93532719e-03],\n",
       "          [2.86424998e-03, 2.58743344e-03, 2.02251226e-03]],\n",
       " \n",
       "         [[3.29762232e-03, 3.02080577e-03, 2.44290289e-03],\n",
       "          [3.31289484e-03, 3.03607830e-03, 2.45817541e-03],\n",
       "          [3.28511721e-03, 3.00830067e-03, 2.43039778e-03],\n",
       "          ...,\n",
       "          [2.81433226e-03, 2.50522885e-03, 1.94708270e-03],\n",
       "          [2.83813756e-03, 2.56078038e-03, 1.98879465e-03],\n",
       "          [2.88766250e-03, 2.60481401e-03, 2.06916709e-03]],\n",
       " \n",
       "         ...,\n",
       " \n",
       "         [[2.98484392e-03, 2.57951464e-03, 2.14885664e-03],\n",
       "          [2.80682370e-03, 2.42991163e-03, 1.98972644e-03],\n",
       "          [2.58241850e-03, 2.24168389e-03, 1.78621255e-03],\n",
       "          ...,\n",
       "          [2.61420524e-03, 2.23958236e-03, 1.64413580e-03],\n",
       "          [2.80037895e-03, 2.38904520e-03, 1.80166739e-03],\n",
       "          [2.93768384e-03, 2.52570282e-03, 1.93848868e-03]],\n",
       " \n",
       "         [[2.80787703e-03, 2.46695988e-03, 2.02512532e-03],\n",
       "          [2.63970229e-03, 2.33944086e-03, 1.88769971e-03],\n",
       "          [2.32689641e-03, 2.04620208e-03, 1.58467737e-03],\n",
       "          ...,\n",
       "          [2.64270091e-03, 2.27361219e-03, 1.70064147e-03],\n",
       "          [2.83190352e-03, 2.44357507e-03, 1.87997799e-03],\n",
       "          [2.92687910e-03, 2.53820652e-03, 1.97478128e-03]],\n",
       " \n",
       "         [[2.58272071e-03, 2.29070568e-03, 1.82934455e-03],\n",
       "          [2.42496864e-03, 2.16353079e-03, 1.70216977e-03],\n",
       "          [2.15121568e-03, 1.89067912e-03, 1.42886757e-03],\n",
       "          ...,\n",
       "          [2.86275102e-03, 2.49366229e-03, 1.93912792e-03],\n",
       "          [3.05711757e-03, 2.68802862e-03, 2.13439530e-03],\n",
       "          [3.15209292e-03, 2.78300419e-03, 2.22937111e-03]]],\n",
       " \n",
       " \n",
       "        [[[3.92156886e-03, 3.92156886e-03, 3.92156886e-03],\n",
       "          [3.92156886e-03, 3.92156886e-03, 3.92156886e-03],\n",
       "          [3.92156886e-03, 3.92156886e-03, 3.92156886e-03],\n",
       "          ...,\n",
       "          [3.92156886e-03, 3.92156886e-03, 3.92156886e-03],\n",
       "          [3.92156886e-03, 3.92156886e-03, 3.92156886e-03],\n",
       "          [3.92156886e-03, 3.92156886e-03, 3.92156886e-03]],\n",
       " \n",
       "         [[3.92156886e-03, 3.92156886e-03, 3.92156886e-03],\n",
       "          [3.92156886e-03, 3.92156886e-03, 3.92156886e-03],\n",
       "          [3.92156886e-03, 3.92156886e-03, 3.92156886e-03],\n",
       "          ...,\n",
       "          [3.92156886e-03, 3.92156886e-03, 3.92156886e-03],\n",
       "          [3.92156886e-03, 3.92156886e-03, 3.92156886e-03],\n",
       "          [3.92156886e-03, 3.92156886e-03, 3.92156886e-03]],\n",
       " \n",
       "         [[3.92156886e-03, 3.92156886e-03, 3.92156886e-03],\n",
       "          [3.92156886e-03, 3.92156886e-03, 3.92156886e-03],\n",
       "          [3.92156886e-03, 3.92156886e-03, 3.92156886e-03],\n",
       "          ...,\n",
       "          [3.92156886e-03, 3.92156886e-03, 3.92156886e-03],\n",
       "          [3.92156886e-03, 3.92156886e-03, 3.92156886e-03],\n",
       "          [3.92156886e-03, 3.92156886e-03, 3.92156886e-03]],\n",
       " \n",
       "         ...,\n",
       " \n",
       "         [[3.92156886e-03, 3.92156886e-03, 3.92156886e-03],\n",
       "          [3.92156886e-03, 3.92156886e-03, 3.92156886e-03],\n",
       "          [3.92156886e-03, 3.92156886e-03, 3.92156886e-03],\n",
       "          ...,\n",
       "          [3.92156886e-03, 3.92156886e-03, 3.92156886e-03],\n",
       "          [3.92156886e-03, 3.92156886e-03, 3.92156886e-03],\n",
       "          [3.92156886e-03, 3.92156886e-03, 3.92156886e-03]],\n",
       " \n",
       "         [[3.92156886e-03, 3.92156886e-03, 3.92156886e-03],\n",
       "          [3.92156886e-03, 3.92156886e-03, 3.92156886e-03],\n",
       "          [3.92156886e-03, 3.92156886e-03, 3.92156886e-03],\n",
       "          ...,\n",
       "          [3.92156886e-03, 3.92156886e-03, 3.92156886e-03],\n",
       "          [3.92156886e-03, 3.92156886e-03, 3.92156886e-03],\n",
       "          [3.92156886e-03, 3.92156886e-03, 3.92156886e-03]],\n",
       " \n",
       "         [[3.92156886e-03, 3.92156886e-03, 3.92156886e-03],\n",
       "          [3.92156886e-03, 3.92156886e-03, 3.92156886e-03],\n",
       "          [3.92156886e-03, 3.92156886e-03, 3.92156886e-03],\n",
       "          ...,\n",
       "          [3.92156886e-03, 3.92156886e-03, 3.92156886e-03],\n",
       "          [3.92156886e-03, 3.92156886e-03, 3.92156886e-03],\n",
       "          [3.92156886e-03, 3.92156886e-03, 3.92156886e-03]]],\n",
       " \n",
       " \n",
       "        ...,\n",
       " \n",
       " \n",
       "        [[[1.41748367e-03, 1.26369670e-03, 1.23293931e-03],\n",
       "          [1.45352748e-03, 1.30767014e-03, 1.27294788e-03],\n",
       "          [1.50278735e-03, 1.37975777e-03, 1.33362168e-03],\n",
       "          ...,\n",
       "          [2.27604783e-03, 2.27604783e-03, 2.27604783e-03],\n",
       "          [2.28746142e-03, 2.28746142e-03, 2.28746142e-03],\n",
       "          [2.29142653e-03, 2.29142653e-03, 2.29142653e-03]],\n",
       " \n",
       "         [[1.40939443e-03, 1.25560747e-03, 1.22485007e-03],\n",
       "          [1.43862935e-03, 1.29277201e-03, 1.25804974e-03],\n",
       "          [1.48788921e-03, 1.36485964e-03, 1.31872355e-03],\n",
       "          ...,\n",
       "          [2.27284688e-03, 2.27284688e-03, 2.27284688e-03],\n",
       "          [2.28193286e-03, 2.28193286e-03, 2.28193286e-03],\n",
       "          [2.28397734e-03, 2.28397734e-03, 2.28397734e-03]],\n",
       " \n",
       "         [[1.39448128e-03, 1.24069431e-03, 1.20993692e-03],\n",
       "          [1.41844479e-03, 1.27258745e-03, 1.23786530e-03],\n",
       "          [1.46677555e-03, 1.34374597e-03, 1.29760976e-03],\n",
       "          ...,\n",
       "          [2.26604356e-03, 2.26604356e-03, 2.26604356e-03],\n",
       "          [2.27332744e-03, 2.27332744e-03, 2.27332744e-03],\n",
       "          [2.27388483e-03, 2.27388483e-03, 2.27388483e-03]],\n",
       " \n",
       "         ...,\n",
       " \n",
       "         [[3.72714223e-03, 3.66130215e-03, 3.67884361e-03],\n",
       "          [3.42599605e-03, 3.36015597e-03, 3.37769720e-03],\n",
       "          [3.08183394e-03, 3.00463615e-03, 3.02785635e-03],\n",
       "          ...,\n",
       "          [1.53787012e-04, 1.53787012e-04, 1.53787012e-04],\n",
       "          [1.53787012e-04, 1.53787012e-04, 1.53787012e-04],\n",
       "          [1.53787012e-04, 1.53787012e-04, 1.53787012e-04]],\n",
       " \n",
       "         [[3.29169328e-03, 3.24603776e-03, 3.26141645e-03],\n",
       "          [3.12228175e-03, 3.07253748e-03, 3.08791618e-03],\n",
       "          [2.98165437e-03, 2.91373790e-03, 2.93231755e-03],\n",
       "          ...,\n",
       "          [1.61716642e-04, 1.61716642e-04, 1.61716642e-04],\n",
       "          [1.61716642e-04, 1.61716642e-04, 1.61716642e-04],\n",
       "          [1.61716642e-04, 1.61716642e-04, 1.61716642e-04]],\n",
       " \n",
       "         [[2.86308164e-03, 2.83232424e-03, 2.84770294e-03],\n",
       "          [2.85551231e-03, 2.81682517e-03, 2.83220387e-03],\n",
       "          [2.91798823e-03, 2.85647344e-03, 2.87185214e-03],\n",
       "          ...,\n",
       "          [1.69165709e-04, 1.69165709e-04, 1.69165709e-04],\n",
       "          [1.69165709e-04, 1.69165709e-04, 1.69165709e-04],\n",
       "          [1.69165709e-04, 1.69165709e-04, 1.69165709e-04]]],\n",
       " \n",
       " \n",
       "        [[[5.38254564e-04, 4.76739719e-04, 4.30603628e-04],\n",
       "          [5.38254564e-04, 4.76739719e-04, 4.30603628e-04],\n",
       "          [5.38254564e-04, 4.76739719e-04, 4.30603628e-04],\n",
       "          ...,\n",
       "          [4.75087698e-04, 4.61361022e-04, 4.06454230e-04],\n",
       "          [4.76739719e-04, 4.61361022e-04, 3.99846205e-04],\n",
       "          [4.76739719e-04, 4.61361022e-04, 3.99846205e-04]],\n",
       " \n",
       "         [[5.38254564e-04, 4.76739719e-04, 4.30603628e-04],\n",
       "          [5.38254564e-04, 4.76739719e-04, 4.30603628e-04],\n",
       "          [5.38254564e-04, 4.76739719e-04, 4.30603628e-04],\n",
       "          ...,\n",
       "          [4.75087698e-04, 4.61361022e-04, 4.06454230e-04],\n",
       "          [4.76739719e-04, 4.61361022e-04, 3.99846205e-04],\n",
       "          [4.76739719e-04, 4.61361022e-04, 3.99846205e-04]],\n",
       " \n",
       "         [[5.38254564e-04, 4.76739719e-04, 4.30603628e-04],\n",
       "          [5.38254564e-04, 4.76739719e-04, 4.30603628e-04],\n",
       "          [5.38254564e-04, 4.76739719e-04, 4.30603628e-04],\n",
       "          ...,\n",
       "          [4.75087698e-04, 4.61361022e-04, 4.06454230e-04],\n",
       "          [4.76739719e-04, 4.61361022e-04, 3.99846205e-04],\n",
       "          [4.76739719e-04, 4.61361022e-04, 3.99846205e-04]],\n",
       " \n",
       "         ...,\n",
       " \n",
       "         [[4.61030606e-04, 2.45728792e-04, 1.07320499e-04],\n",
       "          [4.45639656e-04, 2.30337842e-04, 9.19295417e-05],\n",
       "          [4.37932933e-04, 2.22631134e-04, 8.42228255e-05],\n",
       "          ...,\n",
       "          [4.15224931e-04, 3.99846205e-04, 3.24604742e-04],\n",
       "          [4.15224931e-04, 3.99846205e-04, 3.22952721e-04],\n",
       "          [4.15224931e-04, 3.99846205e-04, 3.22952721e-04]],\n",
       " \n",
       "         [[4.61160322e-04, 2.45858537e-04, 1.07450214e-04],\n",
       "          [4.51630534e-04, 2.36328720e-04, 9.79204196e-05],\n",
       "          [4.43326833e-04, 2.28025034e-04, 8.96167330e-05],\n",
       "          ...,\n",
       "          [4.20613709e-04, 4.05235012e-04, 3.29993520e-04],\n",
       "          [4.21262259e-04, 4.05883562e-04, 3.28990049e-04],\n",
       "          [4.21262259e-04, 4.05883562e-04, 3.28990049e-04]],\n",
       " \n",
       "         [[4.61361022e-04, 2.46059237e-04, 1.07650907e-04],\n",
       "          [4.60369803e-04, 2.45067989e-04, 1.06659696e-04],\n",
       "          [4.44330304e-04, 2.29028490e-04, 9.06201894e-05],\n",
       "          ...,\n",
       "          [4.28951607e-04, 4.13572910e-04, 3.38331418e-04],\n",
       "          [4.30603628e-04, 4.15224931e-04, 3.38331418e-04],\n",
       "          [4.30603628e-04, 4.15224931e-04, 3.38331418e-04]]],\n",
       " \n",
       " \n",
       "        [[[1.30851113e-03, 1.43154082e-03, 1.46229821e-03],\n",
       "          [1.31860340e-03, 1.44163298e-03, 1.47239037e-03],\n",
       "          [1.28736545e-03, 1.41039502e-03, 1.44115242e-03],\n",
       "          ...,\n",
       "          [2.45170132e-03, 2.51321611e-03, 2.52859481e-03],\n",
       "          [2.46852171e-03, 2.53003649e-03, 2.54541519e-03],\n",
       "          [2.30596424e-03, 2.36747903e-03, 2.38285773e-03]],\n",
       " \n",
       "         [[1.18955900e-03, 1.31258857e-03, 1.34334597e-03],\n",
       "          [1.30440376e-03, 1.42743334e-03, 1.45819073e-03],\n",
       "          [1.34270964e-03, 1.46573922e-03, 1.49649661e-03],\n",
       "          ...,\n",
       "          [2.45269062e-03, 2.51420541e-03, 2.52958410e-03],\n",
       "          [2.57571833e-03, 2.63723312e-03, 2.65261182e-03],\n",
       "          [2.51494511e-03, 2.57645990e-03, 2.59183859e-03]],\n",
       " \n",
       "         [[1.07225880e-03, 1.19528850e-03, 1.22604589e-03],\n",
       "          [1.27945456e-03, 1.40248425e-03, 1.43324165e-03],\n",
       "          [1.38587772e-03, 1.50890741e-03, 1.53966481e-03],\n",
       "          ...,\n",
       "          [2.44570151e-03, 2.50721630e-03, 2.52259499e-03],\n",
       "          [2.69513601e-03, 2.75665079e-03, 2.77202949e-03],\n",
       "          [2.75594299e-03, 2.81745777e-03, 2.83283647e-03]],\n",
       " \n",
       "         ...,\n",
       " \n",
       "         [[2.32457556e-03, 2.29381816e-03, 2.10927380e-03],\n",
       "          [2.25515710e-03, 2.22439971e-03, 2.03985535e-03],\n",
       "          [1.99182145e-03, 1.96106406e-03, 1.77651958e-03],\n",
       "          ...,\n",
       "          [2.32201110e-05, 3.85988096e-05, 0.00000000e+00],\n",
       "          [1.59362535e-05, 3.13149540e-05, 0.00000000e+00],\n",
       "          [1.53787023e-05, 3.07574046e-05, 0.00000000e+00]],\n",
       " \n",
       "         [[2.36463477e-03, 2.33387738e-03, 2.14933301e-03],\n",
       "          [2.27315095e-03, 2.24239356e-03, 2.05784920e-03],\n",
       "          [2.00131093e-03, 1.97055354e-03, 1.78600929e-03],\n",
       "          ...,\n",
       "          [1.85794670e-05, 3.39581675e-05, 0.00000000e+00],\n",
       "          [1.53787023e-05, 3.07574046e-05, 0.00000000e+00],\n",
       "          [8.13051156e-06, 2.35092120e-05, 0.00000000e+00]],\n",
       " \n",
       "         [[2.39379075e-03, 2.36303336e-03, 2.17848900e-03],\n",
       "          [2.28205509e-03, 2.25129770e-03, 2.06675311e-03],\n",
       "          [2.00992404e-03, 1.97916664e-03, 1.79462228e-03],\n",
       "          ...,\n",
       "          [1.53787023e-05, 3.07574046e-05, 0.00000000e+00],\n",
       "          [1.53787023e-05, 3.07574046e-05, 0.00000000e+00],\n",
       "          [1.32160710e-06, 1.67003091e-05, 0.00000000e+00]]]],\n",
       "       dtype=float32),\n",
       " array([0, 0, 0, 0, 0, 0, 1, 1, 0, 1, 0, 1, 0, 0, 0, 1, 1, 1, 1, 0, 0, 1,\n",
       "        0, 0, 0, 1, 1, 0, 0, 0, 0, 0], dtype=int32))"
      ]
     },
     "execution_count": 30,
     "metadata": {},
     "output_type": "execute_result"
    }
   ],
   "source": [
    "data.as_numpy_iterator().next()"
   ]
  },
  {
   "cell_type": "markdown",
   "id": "4fbab679",
   "metadata": {},
   "source": [
    "# 6. Split Data"
   ]
  },
  {
   "cell_type": "code",
   "execution_count": 31,
   "id": "05e7c87f",
   "metadata": {},
   "outputs": [],
   "source": [
    "train_size = int(len(data) * 0.7)\n",
    "val_size = int(len(data) * 0.2)\n",
    "test_size = len(data) - train_size - val_size"
   ]
  },
  {
   "cell_type": "code",
   "execution_count": 32,
   "id": "d560d4cc",
   "metadata": {},
   "outputs": [
    {
     "data": {
      "text/plain": [
       "19"
      ]
     },
     "execution_count": 32,
     "metadata": {},
     "output_type": "execute_result"
    }
   ],
   "source": [
    "len(data)"
   ]
  },
  {
   "cell_type": "code",
   "execution_count": 33,
   "id": "43b14f24",
   "metadata": {},
   "outputs": [
    {
     "data": {
      "text/plain": [
       "13"
      ]
     },
     "execution_count": 33,
     "metadata": {},
     "output_type": "execute_result"
    }
   ],
   "source": [
    "train_size"
   ]
  },
  {
   "cell_type": "code",
   "execution_count": 34,
   "id": "a809811e",
   "metadata": {},
   "outputs": [
    {
     "data": {
      "text/plain": [
       "3"
      ]
     },
     "execution_count": 34,
     "metadata": {},
     "output_type": "execute_result"
    }
   ],
   "source": [
    "val_size"
   ]
  },
  {
   "cell_type": "code",
   "execution_count": 35,
   "id": "9db1e89c",
   "metadata": {},
   "outputs": [
    {
     "data": {
      "text/plain": [
       "3"
      ]
     },
     "execution_count": 35,
     "metadata": {},
     "output_type": "execute_result"
    }
   ],
   "source": [
    "test_size"
   ]
  },
  {
   "cell_type": "code",
   "execution_count": 36,
   "id": "5cc023c9",
   "metadata": {},
   "outputs": [],
   "source": [
    "train = data.take(train_size)\n",
    "val = data.skip(train_size).take(val_size)\n",
    "test = data.skip(train_size+val_size).take(test_size)"
   ]
  },
  {
   "cell_type": "markdown",
   "id": "79bafe61",
   "metadata": {},
   "source": [
    "# 7. Train"
   ]
  },
  {
   "cell_type": "code",
   "execution_count": 37,
   "id": "5bfd672e",
   "metadata": {},
   "outputs": [],
   "source": [
    "logdir='logs'"
   ]
  },
  {
   "cell_type": "code",
   "execution_count": 38,
   "id": "6fcd5ee1",
   "metadata": {},
   "outputs": [],
   "source": [
    "tensorboard_callback = tf.keras.callbacks.TensorBoard(log_dir=logdir)"
   ]
  },
  {
   "cell_type": "code",
   "execution_count": 39,
   "id": "37b95a49",
   "metadata": {},
   "outputs": [
    {
     "name": "stdout",
     "output_type": "stream",
     "text": [
      "Epoch 1/20\n"
     ]
    },
    {
     "name": "stderr",
     "output_type": "stream",
     "text": [
      "2023-06-26 11:01:36.831704: I tensorflow/core/common_runtime/executor.cc:1210] [/device:CPU:0] (DEBUG INFO) Executor start aborting (this does not indicate an error and you can ignore this message): INVALID_ARGUMENT: You must feed a value for placeholder tensor 'Placeholder/_4' with dtype int32 and shape [594]\n",
      "\t [[{{node Placeholder/_4}}]]\n",
      "2023-06-26 11:01:36.831996: I tensorflow/core/common_runtime/executor.cc:1210] [/device:CPU:0] (DEBUG INFO) Executor start aborting (this does not indicate an error and you can ignore this message): INVALID_ARGUMENT: You must feed a value for placeholder tensor 'Placeholder/_4' with dtype int32 and shape [594]\n",
      "\t [[{{node Placeholder/_4}}]]\n"
     ]
    },
    {
     "name": "stdout",
     "output_type": "stream",
     "text": [
      "13/13 [==============================] - ETA: 0s - loss: 0.8023 - accuracy: 0.4832"
     ]
    },
    {
     "name": "stderr",
     "output_type": "stream",
     "text": [
      "2023-06-26 11:02:34.075701: I tensorflow/core/common_runtime/executor.cc:1210] [/device:CPU:0] (DEBUG INFO) Executor start aborting (this does not indicate an error and you can ignore this message): INVALID_ARGUMENT: You must feed a value for placeholder tensor 'Placeholder/_4' with dtype int32 and shape [594]\n",
      "\t [[{{node Placeholder/_4}}]]\n",
      "2023-06-26 11:02:34.075880: I tensorflow/core/common_runtime/executor.cc:1210] [/device:CPU:0] (DEBUG INFO) Executor start aborting (this does not indicate an error and you can ignore this message): INVALID_ARGUMENT: You must feed a value for placeholder tensor 'Placeholder/_4' with dtype int32 and shape [594]\n",
      "\t [[{{node Placeholder/_4}}]]\n"
     ]
    },
    {
     "name": "stdout",
     "output_type": "stream",
     "text": [
      "13/13 [==============================] - 71s 6s/step - loss: 0.8023 - accuracy: 0.4832 - val_loss: 0.7181 - val_accuracy: 0.4583\n",
      "Epoch 2/20\n",
      "13/13 [==============================] - 83s 6s/step - loss: 0.7082 - accuracy: 0.5337 - val_loss: 0.6912 - val_accuracy: 0.5312\n",
      "Epoch 3/20\n",
      "13/13 [==============================] - 87s 7s/step - loss: 0.6912 - accuracy: 0.5361 - val_loss: 0.6881 - val_accuracy: 0.5521\n",
      "Epoch 4/20\n",
      "13/13 [==============================] - 88s 7s/step - loss: 0.6879 - accuracy: 0.5625 - val_loss: 0.6826 - val_accuracy: 0.5729\n",
      "Epoch 5/20\n",
      "13/13 [==============================] - 89s 7s/step - loss: 0.6916 - accuracy: 0.5433 - val_loss: 0.6931 - val_accuracy: 0.5104\n",
      "Epoch 6/20\n",
      "13/13 [==============================] - 92s 7s/step - loss: 0.6921 - accuracy: 0.5505 - val_loss: 0.6714 - val_accuracy: 0.6354\n",
      "Epoch 7/20\n",
      "13/13 [==============================] - 102s 8s/step - loss: 0.6913 - accuracy: 0.5481 - val_loss: 0.6873 - val_accuracy: 0.6146\n",
      "Epoch 8/20\n",
      "13/13 [==============================] - 89s 7s/step - loss: 0.6935 - accuracy: 0.5168 - val_loss: 0.6891 - val_accuracy: 0.5521\n",
      "Epoch 9/20\n",
      "13/13 [==============================] - 88s 7s/step - loss: 0.6912 - accuracy: 0.5625 - val_loss: 0.6924 - val_accuracy: 0.5208\n",
      "Epoch 10/20\n",
      "13/13 [==============================] - 89s 7s/step - loss: 0.6897 - accuracy: 0.5649 - val_loss: 0.6875 - val_accuracy: 0.5625\n",
      "Epoch 11/20\n",
      "13/13 [==============================] - 88s 7s/step - loss: 0.6884 - accuracy: 0.5553 - val_loss: 0.6786 - val_accuracy: 0.6042\n",
      "Epoch 12/20\n",
      "13/13 [==============================] - 90s 7s/step - loss: 0.6869 - accuracy: 0.5625 - val_loss: 0.6858 - val_accuracy: 0.5625\n",
      "Epoch 13/20\n",
      "13/13 [==============================] - 89s 7s/step - loss: 0.6919 - accuracy: 0.5409 - val_loss: 0.6756 - val_accuracy: 0.6250\n",
      "Epoch 14/20\n",
      "13/13 [==============================] - 101s 8s/step - loss: 0.6889 - accuracy: 0.5457 - val_loss: 0.6913 - val_accuracy: 0.5312\n",
      "Epoch 15/20\n",
      "13/13 [==============================] - 101s 8s/step - loss: 0.6874 - accuracy: 0.5577 - val_loss: 0.6793 - val_accuracy: 0.6042\n",
      "Epoch 16/20\n",
      "13/13 [==============================] - 99s 8s/step - loss: 0.6914 - accuracy: 0.5433 - val_loss: 0.6878 - val_accuracy: 0.5521\n",
      "Epoch 17/20\n",
      "13/13 [==============================] - 93s 7s/step - loss: 0.6834 - accuracy: 0.5745 - val_loss: 0.6774 - val_accuracy: 0.6042\n",
      "Epoch 18/20\n",
      "13/13 [==============================] - 93s 7s/step - loss: 0.6824 - accuracy: 0.5745 - val_loss: 0.6902 - val_accuracy: 0.5417\n",
      "Epoch 19/20\n",
      "13/13 [==============================] - 96s 7s/step - loss: 0.6844 - accuracy: 0.5625 - val_loss: 0.6854 - val_accuracy: 0.5625\n",
      "Epoch 20/20\n",
      "13/13 [==============================] - 105s 8s/step - loss: 0.6866 - accuracy: 0.5625 - val_loss: 0.7047 - val_accuracy: 0.4896\n"
     ]
    }
   ],
   "source": [
    "hist = model.fit(train, epochs=20, validation_data=val, callbacks=[tensorboard_callback])"
   ]
  },
  {
   "cell_type": "markdown",
   "id": "ef8ab8dd",
   "metadata": {},
   "source": [
    "# 8. Plot Performance"
   ]
  },
  {
   "cell_type": "code",
   "execution_count": 40,
   "id": "33f61e45",
   "metadata": {},
   "outputs": [
    {
     "data": {
      "image/png": "[encoded data removed]",
      "text/plain": [
       "<Figure size 640x480 with 1 Axes>"
      ]
     },
     "metadata": {},
     "output_type": "display_data"
    }
   ],
   "source": [
    "fig = plt.figure()\n",
    "plt.plot(hist.history['loss'], color='teal', label='loss')\n",
    "plt.plot(hist.history['val_loss'], color='orange', label='val_loss')\n",
    "fig.suptitle('Loss', fontsize=20)\n",
    "plt.legend(loc=\"upper left\")\n",
    "plt.show()"
   ]
  },
  {
   "cell_type": "code",
   "execution_count": 41,
   "id": "fba64798",
   "metadata": {},
   "outputs": [
    {
     "data": {
      "image/png": "[encoded data removed]",
      "text/plain": [
       "<Figure size 640x480 with 1 Axes>"
      ]
     },
     "metadata": {},
     "output_type": "display_data"
    }
   ],
   "source": [
    "fig = plt.figure()\n",
    "plt.plot(hist.history['accuracy'], color='teal', label='accuracy')\n",
    "plt.plot(hist.history['val_accuracy'], color='orange', label='val_accuracy')\n",
    "fig.suptitle('Accuracy', fontsize=20)\n",
    "plt.legend(loc=\"upper left\")\n",
    "plt.show()"
   ]
  },
  {
   "cell_type": "markdown",
   "id": "1d55f2e5",
   "metadata": {},
   "source": [
    "# 9. Evaluate by test"
   ]
  },
  {
   "cell_type": "code",
   "execution_count": 42,
   "id": "e34032c8",
   "metadata": {},
   "outputs": [],
   "source": [
    "from keras.metrics import Precision, Recall, BinaryAccuracy"
   ]
  },
  {
   "cell_type": "code",
   "execution_count": 43,
   "id": "af2a88ed",
   "metadata": {},
   "outputs": [],
   "source": [
    "pre = Precision()\n",
    "re = Recall()\n",
    "acc = BinaryAccuracy()"
   ]
  },
  {
   "cell_type": "code",
   "execution_count": 55,
   "id": "2d950b58",
   "metadata": {},
   "outputs": [
    {
     "name": "stdout",
     "output_type": "stream",
     "text": [
      "1/1 [==============================] - 4s 4s/step\n",
      "1/1 [==============================] - 4s 4s/step\n",
      "1/1 [==============================] - 2s 2s/step\n"
     ]
    }
   ],
   "source": [
    "for batch in test.as_numpy_iterator(): \n",
    "    X, y = batch\n",
    "    yhat = model.predict(X)\n",
    "    pre.update_state(y, yhat)\n",
    "    re.update_state(y, yhat)\n",
    "    acc.update_state(y, yhat)"
   ]
  },
  {
   "cell_type": "code",
   "execution_count": 56,
   "id": "c4c767ae",
   "metadata": {},
   "outputs": [
    {
     "name": "stdout",
     "output_type": "stream",
     "text": [
      "tf.Tensor(0.0, shape=(), dtype=float32) tf.Tensor(0.0, shape=(), dtype=float32) tf.Tensor(0.597561, shape=(), dtype=float32)\n"
     ]
    }
   ],
   "source": [
    "print(pre.result(), re.result(), acc.result())"
   ]
  },
  {
   "cell_type": "markdown",
   "id": "855af6d8",
   "metadata": {},
   "source": [
    "# 10. Save the Model"
   ]
  },
  {
   "cell_type": "code",
   "execution_count": 57,
   "id": "5135b3db",
   "metadata": {},
   "outputs": [],
   "source": [
    "from keras.models import load_model"
   ]
  },
  {
   "cell_type": "code",
   "execution_count": 59,
   "id": "2defc4dc",
   "metadata": {},
   "outputs": [],
   "source": [
    "model.save(os.path.join('models','imageclassifier.h5'))"
   ]
  },
  {
   "cell_type": "code",
   "execution_count": 60,
   "id": "00076a8a",
   "metadata": {},
   "outputs": [],
   "source": [
    "new_model = load_model('models/imageclassifier.h5')"
   ]
  },
  {
   "cell_type": "code",
   "execution_count": 62,
   "id": "8cc620e4",
   "metadata": {},
   "outputs": [
    {
     "name": "stdout",
     "output_type": "stream",
     "text": [
      "1/1 [==============================] - 5s 5s/step\n",
      "1/1 [==============================] - 4s 4s/step\n",
      "1/1 [==============================] - 2s 2s/step\n"
     ]
    }
   ],
   "source": [
    "for batch in test.as_numpy_iterator(): \n",
    "    X, y = batch\n",
    "    yhat = model.predict(X)\n",
    "    pre.update_state(y, yhat)\n",
    "    re.update_state(y, yhat)\n",
    "    acc.update_state(y, yhat)"
   ]
  },
  {
   "cell_type": "code",
   "execution_count": 63,
   "id": "b374647d",
   "metadata": {},
   "outputs": [
    {
     "name": "stdout",
     "output_type": "stream",
     "text": [
      "tf.Tensor(0.0, shape=(), dtype=float32) tf.Tensor(0.0, shape=(), dtype=float32) tf.Tensor(0.5731707, shape=(), dtype=float32)\n"
     ]
    }
   ],
   "source": [
    "print(pre.result(), re.result(), acc.result())"
   ]
  }
 ],
 "metadata": {
  "kernelspec": {
   "display_name": "Python 3 (ipykernel)",
   "language": "python",
   "name": "python3"
  },
  "language_info": {
   "codemirror_mode": {
    "name": "ipython",
    "version": 3
   },
   "file_extension": ".py",
   "mimetype": "text/x-python",
   "name": "python",
   "nbconvert_exporter": "python",
   "pygments_lexer": "ipython3",
   "version": "3.10.12"
  }
 },
 "nbformat": 4,
 "nbformat_minor": 5
}
